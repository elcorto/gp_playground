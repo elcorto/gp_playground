{
 "cells": [
  {
   "cell_type": "markdown",
   "id": "cd045f16",
   "metadata": {},
   "source": [
    "# Test!!1!1!\n",
    "\n",
    "This line is part of the Md cell above and will be shown.\n",
    "\n",
    "Hidden code below."
   ]
  },
  {
   "cell_type": "code",
   "execution_count": null,
   "id": "43740aaa",
   "metadata": {
    "tags": [
     "hide-input"
    ]
   },
   "outputs": [],
   "source": [
    "from icecream import ic\n",
    "from matplotlib import pyplot as plt, is_interactive\n",
    "\n",
    "def foo():\n",
    "    pass"
   ]
  },
  {
   "cell_type": "code",
   "execution_count": null,
   "id": "f8e9c9aa",
   "metadata": {},
   "outputs": [],
   "source": [
    "# Code cell here. This is a normal comment part of the code cell. Will not be\n",
    "# rendered as Md.\n",
    "\n",
    "print(\"is_interactive():\", is_interactive())\n",
    "\n",
    "for _ in range(3):\n",
    "    print(\"stuff from print\")\n",
    "\n",
    "for _ in range(3):\n",
    "    ic(\"stuff from ic\")\n",
    "\n",
    "fig, ax = plt.subplots()\n",
    "ax.plot([1,2,3])"
   ]
  },
  {
   "cell_type": "code",
   "execution_count": null,
   "id": "061b1905",
   "metadata": {},
   "outputs": [],
   "source": [
    "fig, ax = plt.subplots()\n",
    "ax.plot([4,7,9])"
   ]
  },
  {
   "cell_type": "code",
   "execution_count": null,
   "id": "cf379169",
   "metadata": {
    "tags": [
     "hide-input"
    ]
   },
   "outputs": [],
   "source": [
    "# Need this if running the script outside of jupyter. Note that\n",
    "# is_interactive() is also False when jupyterbook or jupytext execute this\n",
    "# script / notebook.\n",
    "if not is_interactive():\n",
    "    plt.show()"
   ]
  }
 ],
 "metadata": {
  "jupytext": {
   "cell_metadata_filter": "-all",
   "text_representation": {
    "extension": ".md",
    "format_name": "myst",
    "format_version": 0.13,
    "jupytext_version": "1.14.1"
   }
  },
  "kernelspec": {
   "display_name": "Python 3 (ipykernel)",
   "language": "python",
   "name": "python3"
  },
  "source_map": [
   13,
   21,
   31,
   48,
   53
  ]
 },
 "nbformat": 4,
 "nbformat_minor": 5
}